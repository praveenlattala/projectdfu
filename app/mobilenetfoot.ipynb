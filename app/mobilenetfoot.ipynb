{
  "nbformat": 4,
  "nbformat_minor": 0,
  "metadata": {
    "colab": {
      "provenance": []
    },
    "kernelspec": {
      "name": "python3",
      "display_name": "Python 3"
    },
    "language_info": {
      "name": "python"
    }
  },
  "cells": [
    {
      "cell_type": "code",
      "execution_count": null,
      "metadata": {
        "id": "5KhZVtrnmHSk"
      },
      "outputs": [],
      "source": [
        "from keras.models import Sequential, load_model\n",
        "from keras.layers import Convolution2D\n",
        "from keras.layers import Flatten\n",
        "from keras.layers import Dense\n",
        "from keras.layers import MaxPooling2D\n",
        "from matplotlib import pyplot as plt\n",
        "from keras.preprocessing.image import ImageDataGenerator"
      ]
    },
    {
      "cell_type": "code",
      "source": [
        "\n",
        "train_datagen = ImageDataGenerator(rescale=1. / 255,\n",
        "                                   shear_range=0.2,\n",
        "                                   zoom_range=0.2,\n",
        "                                   horizontal_flip=True)\n",
        "\n",
        "test_datagen = ImageDataGenerator(rescale=1. / 255)"
      ],
      "metadata": {
        "id": "BWiappy_ojVg"
      },
      "execution_count": null,
      "outputs": []
    },
    {
      "cell_type": "code",
      "source": [
        "training_set = train_datagen.flow_from_directory('/content/drive/MyDrive/Footdata/train',\n",
        "                                                 target_size=(64,64),\n",
        "                                                 batch_size=12,\n",
        "                                                 class_mode='categorical'\n",
        "                                                 )\n",
        "\n",
        "test_set = test_datagen.flow_from_directory('/content/drive/MyDrive/Footdata/test',\n",
        "                                            target_size=(64,64),\n",
        "                                            batch_size=12,\n",
        "                                            class_mode='categorical'\n",
        "                                            )"
      ],
      "metadata": {
        "id": "9fCjfDOvojzw"
      },
      "execution_count": null,
      "outputs": []
    },
    {
      "cell_type": "code",
      "source": [
        "\n",
        "\n",
        "base_model=MobileNet(weights='imagenet',include_top=False) #imports the mobilenet model and discards the last 1000 neuron layer.\n",
        "\n",
        "x=base_model.output\n",
        "x=GlobalAveragePooling2D()(x)\n",
        "x=Dense(1024,activation='relu')(x) #we add dense layers so that the model can learn more complex functions and classify for better results.\n",
        "x=Dense(1024,activation='relu')(x) #dense layer 2\n",
        "x=Dense(512,activation='relu')(x) #dense layer 3\n",
        "preds=Dense(36,activation='softmax')(x)\n",
        "model=Model(inputs=base_model.input,outputs=preds)\n",
        "\n",
        "for i,layer in enumerate(model.layers):\n",
        "  print(i,layer.name)\n",
        "\n",
        "for layer in model.layers:\n",
        "    layer.trainable=False\n",
        "# or if we want to set the first 20 layers of the network to be non-trainable\n",
        "for layer in model.layers[:20]:\n",
        "    layer.trainable=False\n",
        "for layer in model.layers[20:]:\n",
        "    layer.trainable=True\n"
      ],
      "metadata": {
        "id": "W2glKUaxmkDi"
      },
      "execution_count": null,
      "outputs": []
    },
    {
      "cell_type": "code",
      "source": [
        "\n",
        "history=classifier.fit_generator(training_set,epochs = 10,validation_data = test_set,verbose = 1)\n",
        "\n",
        "classifier.save(r\"/content/drive/MyDrive/Footdata/mobilenet.h5\")"
      ],
      "metadata": {
        "id": "nM-J_Gcaod2d"
      },
      "execution_count": null,
      "outputs": []
    },
    {
      "cell_type": "code",
      "source": [
        "plt.style.use(\"ggplot\")\n",
        "plt.figure()\n",
        "plt.plot(history.history['accuracy'],'r',label='training accuracy',color='green')\n",
        "plt.plot(history.history['val_accuracy'],label='validation accuracy',color='red')\n",
        "plt.xlabel('# epochs')\n",
        "plt.ylabel('accuracy')\n",
        "plt.legend()\n",
        "plt.savefig('/content/drive/MyDrive/Footdata/mobileacc.png')\n",
        "plt.show()\n",
        "\n",
        "plt.style.use(\"ggplot\")\n",
        "plt.figure()\n",
        "plt.plot(history.history['loss'],'r',label='training loss',color='green')\n",
        "plt.plot(history.history['val_loss'],label='validation loss',color='red')\n",
        "plt.xlabel('# epochs')\n",
        "plt.ylabel('loss')\n",
        "plt.legend()\n",
        "plt.savefig('/content/drive/MyDrive/Footdata/mobileloss.png')\n",
        "plt.show()\n",
        "\n",
        "\n",
        "vgg_acc=history.history['val_accuracy'][-1]\n",
        "\n",
        "print(vgg_acc)"
      ],
      "metadata": {
        "id": "bTa4XD3MpHIZ"
      },
      "execution_count": null,
      "outputs": []
    }
  ]
}